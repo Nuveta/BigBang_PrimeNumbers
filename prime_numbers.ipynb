{
  "nbformat": 4,
  "nbformat_minor": 0,
  "metadata": {
    "colab": {
      "provenance": []
    },
    "kernelspec": {
      "name": "python3",
      "display_name": "Python 3"
    },
    "language_info": {
      "name": "python"
    }
  },
  "cells": [
    {
      "cell_type": "markdown",
      "source": [
        "**There was a tale when 2 prime numbers collided and a big bang happened. Scientists found out\n",
        "the 2 prime numbers are 3 and 5 but they need a model to generate an array of numbers to\n",
        "predict when the big bang will happen again.**"
      ],
      "metadata": {
        "id": "_6CkJwFaOWOx"
      }
    },
    {
      "cell_type": "markdown",
      "source": [
        "Create a script to iterate through 1 to 100 and replace any number divisible by 3 with the word\n",
        "BIG number divisible by 5 with the word BANG. If the number is divisible by 3 and 5, replace it\n",
        "with BIG BANG."
      ],
      "metadata": {
        "id": "vvXWfv4iOOqq"
      }
    },
    {
      "cell_type": "code",
      "execution_count": 1,
      "metadata": {
        "id": "aEq_DiMJNpBs"
      },
      "outputs": [],
      "source": [
        "import json\n",
        "\n",
        "def generate_big_bang_array():\n",
        "    result = []\n",
        "    for num in range(1, 101):\n",
        "        if num % 3 == 0 and num % 5 == 0:\n",
        "            result.append(\"BIGBANG\")\n",
        "        elif num % 3 == 0:\n",
        "            result.append(\"BIG\")\n",
        "        elif num % 5 == 0:\n",
        "            result.append(\"BANG\")\n",
        "        else:\n",
        "            result.append(str(num))\n",
        "    return result\n",
        "\n",
        "def save_to_json(filename, data):\n",
        "    with open(filename, 'w') as f:\n",
        "        json.dump(data, f)\n",
        "\n",
        "# prints output in a json file and saves it\n",
        "if __name__ == \"__main__\":\n",
        "    big_bang_array = generate_big_bang_array()\n",
        "    save_to_json('output.json', big_bang_array)"
      ]
    }
  ]
}